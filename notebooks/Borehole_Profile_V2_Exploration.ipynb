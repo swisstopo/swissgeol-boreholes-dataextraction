{
 "cells": [
  {
   "cell_type": "markdown",
   "id": "9f3aa641",
   "metadata": {},
   "source": [
    "# EDA on Second Set of Borehole Profiles"
   ]
  },
  {
   "cell_type": "code",
   "execution_count": 1,
   "id": "eacdbb5e",
   "metadata": {},
   "outputs": [],
   "source": [
    "from stratigraphy import DATAPATH\n",
    "import json"
   ]
  },
  {
   "cell_type": "code",
   "execution_count": 2,
   "id": "90e4aab6-f21b-422f-9278-2d3a7715bc4f",
   "metadata": {},
   "outputs": [],
   "source": [
    "input_directory = DATAPATH / \"data_v2\"\n",
    "ground_truth_path = input_directory / \"geoquat_ground_truth.json\"\n",
    "predictions_path = input_directory / \"extract\" / \"predictions.json\""
   ]
  },
  {
   "cell_type": "markdown",
   "id": "62ceb4d4",
   "metadata": {},
   "source": [
    "## Check if ground truth is present for all files"
   ]
  },
  {
   "cell_type": "code",
   "execution_count": 3,
   "id": "fecb9c65-5fb2-498b-a7c4-439fd2e812b2",
   "metadata": {},
   "outputs": [],
   "source": [
    "with open(ground_truth_path) as in_file:\n",
    "        ground_truth = json.load(in_file)"
   ]
  },
  {
   "cell_type": "code",
   "execution_count": 4,
   "id": "e9be30e3",
   "metadata": {},
   "outputs": [
    {
     "name": "stdout",
     "output_type": "stream",
     "text": [
      "There are 1658 pdf files in the input directory.\n"
     ]
    }
   ],
   "source": [
    "# count all pdf files in input directory\n",
    "pdf_files = list(input_directory.glob(\"*.pdf\"))\n",
    "n_pdf_files = len(pdf_files)\n",
    "print(f\"There are {n_pdf_files} pdf files in the input directory.\")"
   ]
  },
  {
   "cell_type": "code",
   "execution_count": 5,
   "id": "0882c4a9-e1b3-465e-8da5-42547b61dfeb",
   "metadata": {},
   "outputs": [
    {
     "name": "stdout",
     "output_type": "stream",
     "text": [
      "There is ground_truth data for 2137 pdf files. There are no duplicated keys.\n"
     ]
    }
   ],
   "source": [
    "print(f\"There is ground_truth data for {len(ground_truth.keys())} pdf files. There are no duplicated keys.\")"
   ]
  },
  {
   "cell_type": "code",
   "execution_count": 6,
   "id": "b0fb5110",
   "metadata": {},
   "outputs": [
    {
     "name": "stdout",
     "output_type": "stream",
     "text": [
      "There are 1658 pdf files with ground truth data.\n"
     ]
    }
   ],
   "source": [
    "# Check the overlap between ground truth and available pdfs\n",
    "ground_truth_keys = set(ground_truth.keys())\n",
    "pdf_keys = set([str(pdf_path).split('/')[-1] for pdf_path in pdf_files])\n",
    "intersection = ground_truth_keys.intersection(pdf_keys)\n",
    "print(f\"There are {len(intersection)} pdf files with ground truth data.\")"
   ]
  },
  {
   "cell_type": "markdown",
   "id": "350b2eec",
   "metadata": {},
   "source": [
    "We know that there is ground truth data for each pdf. More, there is also ground truth for pdfs that we don't have."
   ]
  },
  {
   "cell_type": "markdown",
   "id": "55ee4626",
   "metadata": {},
   "source": [
    "## Check language distribution of the borehole profiles"
   ]
  },
  {
   "cell_type": "code",
   "execution_count": 7,
   "id": "697a4493",
   "metadata": {},
   "outputs": [],
   "source": [
    "from langdetect import detect\n",
    "import fitz\n",
    "from tqdm import tqdm\n",
    "import matplotlib.pyplot as plt\n",
    "from collections import defaultdict"
   ]
  },
  {
   "cell_type": "code",
   "execution_count": 8,
   "id": "6c06ec7f",
   "metadata": {},
   "outputs": [],
   "source": [
    "def detect_language(text):\n",
    "    try:\n",
    "        return detect(text)\n",
    "    except:\n",
    "        return \"Language detection failed\""
   ]
  },
  {
   "cell_type": "code",
   "execution_count": 9,
   "id": "e85fca47",
   "metadata": {},
   "outputs": [],
   "source": [
    "def extract_text_from_pdf(file_path):\n",
    "    doc = fitz.open(file_path)\n",
    "    text = \"\"\n",
    "    for page in doc:\n",
    "        text += page.get_text()\n",
    "    text = text.replace(\"\\n\", \" \")\n",
    "\n",
    "    # remove all numbers and special characters from text\n",
    "    return ''.join(e for e in text if (e.isalnum() or e.isspace()) and not e.isdigit())"
   ]
  },
  {
   "cell_type": "code",
   "execution_count": 10,
   "id": "f552de08",
   "metadata": {},
   "outputs": [
    {
     "name": "stderr",
     "output_type": "stream",
     "text": [
      "  0%|                                                                                                                                                                                                                                      | 0/1658 [00:00<?, ?it/s]"
     ]
    },
    {
     "name": "stderr",
     "output_type": "stream",
     "text": [
      "100%|██████████████████████████████████████████████████████████████████████████████████████████████████████████████████████████████████████████████████████████████████████████████████████████████████████████████████████████| 1658/1658 [00:05<00:00, 314.35it/s]"
     ]
    },
    {
     "name": "stdout",
     "output_type": "stream",
     "text": [
      "There are 57 pdf files without text. This is 3.44% of all pdf files.\n"
     ]
    },
    {
     "name": "stderr",
     "output_type": "stream",
     "text": [
      "\n"
     ]
    }
   ],
   "source": [
    "# check if all documents have text\n",
    "files_without_text = []\n",
    "for pdf_file in tqdm(pdf_files):\n",
    "    text = extract_text_from_pdf(pdf_file)\n",
    "    if not text or len(text) < 10:\n",
    "        files_without_text.append(pdf_file)\n",
    "print(f\"There are {len(files_without_text)} pdf files without text. This is {len(files_without_text) / n_pdf_files * 100:.2f}% of all pdf files.\")"
   ]
  },
  {
   "cell_type": "code",
   "execution_count": 34,
   "id": "4cba499a",
   "metadata": {},
   "outputs": [
    {
     "name": "stderr",
     "output_type": "stream",
     "text": [
      "100%|██████████████████████████████████████████████████████████████████████████████████████████████████████████████████████████████████████████████████████████████████████████████████████████████████████████████████████████| 1658/1658 [00:10<00:00, 153.89it/s]\n"
     ]
    }
   ],
   "source": [
    "# check the distribution of languages in the pdf files\n",
    "languages = {}\n",
    "files_per_language = defaultdict(list)\n",
    "for pdf_file in tqdm(pdf_files):\n",
    "    if pdf_file in files_without_text:  # if theres no text we can't detect the language\n",
    "        continue\n",
    "    text = extract_text_from_pdf(pdf_file)\n",
    "    language = detect_language(text)\n",
    "    if language in languages:\n",
    "        languages[language] += 1\n",
    "    else:\n",
    "        languages[language] = 1\n",
    "    files_per_language[language].append(pdf_file)"
   ]
  },
  {
   "cell_type": "code",
   "execution_count": 35,
   "id": "541445bf",
   "metadata": {},
   "outputs": [
    {
     "data": {
      "text/plain": [
       "{'de': 1302, 'fr': 276, 'en': 21, 'pt': 1, 'es': 1}"
      ]
     },
     "execution_count": 35,
     "metadata": {},
     "output_type": "execute_result"
    }
   ],
   "source": [
    "languages"
   ]
  },
  {
   "cell_type": "code",
   "execution_count": 13,
   "id": "092bb56a",
   "metadata": {},
   "outputs": [
    {
     "name": "stdout",
     "output_type": "stream",
     "text": [
      "81.26% of all pdf files are in German.\n",
      "17.24% of all pdf files are in French.\n",
      "1.31% of all pdf files are in English.\n"
     ]
    }
   ],
   "source": [
    "print(f\"{languages['de'] / (n_pdf_files - len(files_without_text)) * 100:.2f}% of all pdf files are in German.\")\n",
    "print(f\"{languages['fr'] / (n_pdf_files - len(files_without_text)) * 100:.2f}% of all pdf files are in French.\")\n",
    "print(f\"{languages['en'] / (n_pdf_files - len(files_without_text)) * 100:.2f}% of all pdf files are in English.\")\n",
    "# Note: Later on we will notice that most English documents are actually in German. We can conclude that we have German and French documents."
   ]
  },
  {
   "cell_type": "code",
   "execution_count": 14,
   "id": "c81d5ea1",
   "metadata": {},
   "outputs": [
    {
     "data": {
      "image/png": "[encoded data removed]",
      "text/plain": [
       "<Figure size 640x480 with 1 Axes>"
      ]
     },
     "metadata": {},
     "output_type": "display_data"
    }
   ],
   "source": [
    "# plot language distribution\n",
    "plt.bar(languages.keys(), languages.values())\n",
    "plt.xlabel(\"Language\")\n",
    "plt.ylabel(\"Number of PDF files\")\n",
    "plt.title(\"Language distribution in PDF files\")\n",
    "plt.show()"
   ]
  },
  {
   "cell_type": "markdown",
   "id": "e5959dcd",
   "metadata": {},
   "source": [
    "### The language detection is sometimes wrong - Examples\n",
    "In some cases the wrong language is detected. It seems this is due to the text recognition, and not acutally a fault of the language detection.\n",
    "Sometimes text is very badly recognized, and sometimes there is text in the pdf's that is not supposed to be there."
   ]
  },
  {
   "cell_type": "code",
   "execution_count": 15,
   "id": "6fa25548",
   "metadata": {},
   "outputs": [
    {
     "data": {
      "text/plain": [
       "'Geobechnisches Institute RG Rotationsbohrung RB P  Ben Gortenstrouse a Selection on  M  RtNe  Objett Geverbezentrum Melliger Chutzenstrasse Hone in in  M  Stung tohn AS Koordination      Bohrneight Mr Moser  He Florl Deturn    LN Tete Profit Georechrische Bezeichnung Geal Benerlungen    silger Kare  Send with  I King  IN  and Sand AT  partner snipsitiger   Send AT againstre   in braungrau  Kee  Bent AS  a may sends new ship offer Tax  Send Mino  Grobanc  veric Kor and  sitigen Lines Fair Grobeard as site signature   when order wardland leader   nitworig Feinward   pebtrace  an   onlession    and since Fairward brown  graver     Persend probrain audit differe Painsant  at  Personal one press leught Waterlapering   and Send  to  Assistic   grauget braun  leaft as  Fairmand terling Math sitigar Sand   Mississed  teache sition Sand  work Kim achweek  I Keep nb fined sites    transport Kar and Sand at sitip  Staine  SPT be    be           an due de      Bellage  a b c SPT  d d '"
      ]
     },
     "execution_count": 15,
     "metadata": {},
     "output_type": "execute_result"
    }
   ],
   "source": [
    "# Some examples have strange text in them. Example of A8570.pdf. Document is in German, but there seems to be a lot of\n",
    "# English text in it. The actual document does not contain this English text\n",
    "text = extract_text_from_pdf(files_per_language['en'][-2]).replace(\"\\n\", \" \")\n",
    "''.join(e for e in text if (e.isalnum() or e.isspace()) and not e.isdigit())"
   ]
  },
  {
   "cell_type": "code",
   "execution_count": 16,
   "id": "c1f8d4b3",
   "metadata": {},
   "outputs": [
    {
     "data": {
      "text/plain": [
       "'Rb Didnt auffullery Tart unit Sandand filtsinlogegr     land filt unit ind Sand u weing this stell waise samber fand fitty fand unit kies    silt unit Sand and weing kies   '"
      ]
     },
     "execution_count": 16,
     "metadata": {},
     "output_type": "execute_result"
    }
   ],
   "source": [
    "# Example A8504 --> almost no Text recognized. The document is actually in German\n",
    "text = extract_text_from_pdf(files_per_language['en'][-5]).replace(\"\\n\", \" \")\n",
    "''.join(e for e in text if (e.isalnum() or e.isspace()) and not e.isdigit())"
   ]
  },
  {
   "cell_type": "code",
   "execution_count": 17,
   "id": "70a4747f",
   "metadata": {},
   "outputs": [
    {
     "data": {
      "text/plain": [
       "'which getter send  Author  V BI '"
      ]
     },
     "execution_count": 17,
     "metadata": {},
     "output_type": "execute_result"
    }
   ],
   "source": [
    "# Example A8530 --> OCR errorfull. The document is actually in German\n",
    "text = extract_text_from_pdf(files_per_language['en'][-7]).replace(\"\\n\", \" \")\n",
    "''.join(e for e in text if (e.isalnum() or e.isspace()) and not e.isdigit())"
   ]
  },
  {
   "cell_type": "markdown",
   "id": "c791c92e",
   "metadata": {},
   "source": [
    "## Check Content of Ground Truth"
   ]
  },
  {
   "cell_type": "code",
   "execution_count": 18,
   "id": "10ed5f38",
   "metadata": {},
   "outputs": [],
   "source": [
    "# get 10 random keys from ground truth\n",
    "import random\n",
    "random_keys = random.sample(list(intersection), 10)"
   ]
  },
  {
   "cell_type": "code",
   "execution_count": 19,
   "id": "6df98c9e",
   "metadata": {},
   "outputs": [],
   "source": [
    "# fix the keys\n",
    "random_keys = ['A11145.pdf',\n",
    " 'A11132.pdf',\n",
    " 'A11251.pdf',\n",
    " 'B598.pdf',\n",
    " 'A11440.pdf',\n",
    " 'A11329.pdf',\n",
    " '12326.pdf',\n",
    " '8367.pdf',\n",
    " 'A7171.pdf',\n",
    " 'A8291.pdf']"
   ]
  },
  {
   "cell_type": "code",
   "execution_count": 20,
   "id": "4670b639",
   "metadata": {},
   "outputs": [
    {
     "data": {
      "text/plain": [
       "[{'material_description': 'Humus, dunkelbraun',\n",
       "  'depth_interval': {'start': 0.0, 'end': 0.5}},\n",
       " {'material_description': 'Silt, Sand + Grobkies, braun',\n",
       "  'depth_interval': {'start': 0.5, 'end': 1.0}},\n",
       " {'material_description': 'siltiger Sand, braun',\n",
       "  'depth_interval': {'start': 1.0, 'end': 2.1}},\n",
       " {'material_description': 'sandiger Silt, organ. Verunreinigt, graugelb',\n",
       "  'depth_interval': {'start': 2.1, 'end': 2.3}},\n",
       " {'material_description': 'Torf + Silt, schwarz bis grau',\n",
       "  'depth_interval': {'start': 2.3, 'end': 2.8}},\n",
       " {'material_description': 'Silt mit Feinsand, graugelb',\n",
       "  'depth_interval': {'start': 2.8, 'end': 3.2}},\n",
       " {'material_description': 'Siltiger Sand, grau bis dunkelgrau',\n",
       "  'depth_interval': {'start': 3.2, 'end': 3.9}},\n",
       " {'material_description': 'siltiger Sand mit Kies, bräunlich-grau',\n",
       "  'depth_interval': {'start': 3.9, 'end': 4.35}},\n",
       " {'material_description': 'siltiger Kiessand, rostrot',\n",
       "  'depth_interval': {'start': 4.35, 'end': 5.1}},\n",
       " {'material_description': 'Kiessand mit einzelne siltigen Zwischenlagen, grau',\n",
       "  'depth_interval': {'start': 5.1, 'end': 8.0}},\n",
       " {'material_description': 'toniger Silt (Seeton), dunkelgrau',\n",
       "  'depth_interval': {'start': 8.0, 'end': 16.2}}]"
      ]
     },
     "execution_count": 20,
     "metadata": {},
     "output_type": "execute_result"
    }
   ],
   "source": [
    "number_wrong = 0\n",
    "fp = 0\n",
    "fn = 0\n",
    "tp = 0\n",
    "total_number = 0\n",
    "total_number += len(ground_truth[random_keys[0]][\"layers\"])\n",
    "tp += len(ground_truth[random_keys[0]][\"layers\"])\n",
    "ground_truth[random_keys[0]][\"layers\"]  # all correct\n"
   ]
  },
  {
   "cell_type": "code",
   "execution_count": 21,
   "id": "72e28be2",
   "metadata": {},
   "outputs": [
    {
     "data": {
      "text/plain": [
       "[{'material_description': 'toniger Silt mit wenig Feinsand, bräunlichgrau',\n",
       "  'depth_interval': {'start': 0.0, 'end': 2.75}},\n",
       " {'material_description': 'leicht toniger Silt ab 5,80 bis 15,0 toniger Silt, dunkelgrau',\n",
       "  'depth_interval': {'start': 2.75, 'end': 15.0}}]"
      ]
     },
     "execution_count": 21,
     "metadata": {},
     "output_type": "execute_result"
    }
   ],
   "source": [
    "fn += 1\n",
    "tp += len(ground_truth[random_keys[1]][\"layers\"])\n",
    "total_number += len(ground_truth[random_keys[1]][\"layers\"]) + 1\n",
    "ground_truth[random_keys[1]][\"layers\"]  # first layer is missing"
   ]
  },
  {
   "cell_type": "code",
   "execution_count": 22,
   "id": "817e7692",
   "metadata": {},
   "outputs": [
    {
     "data": {
      "text/plain": [
       "[{'material_description': 'Humus, schwarz',\n",
       "  'depth_interval': {'start': 0.0, 'end': 0.5}},\n",
       " {'material_description': 'Silt mit viel Sand und wenig Kies, sowie Ziegelresten etc. Auffüllung, braun',\n",
       "  'depth_interval': {'start': 0.5, 'end': 1.7}},\n",
       " {'material_description': 'leicht siltiger Kies mit reichlich Sand und mit Steinen bis ¿15cm, braungrau',\n",
       "  'depth_interval': {'start': 1.7, 'end': 4.5}},\n",
       " {'material_description': 'toniger Silt mit wenig kleinen Steinen, braun grau',\n",
       "  'depth_interval': {'start': 4.5, 'end': 6.0}},\n",
       " {'material_description': 'toniger Silt mit sehr wenig kleinen Steinen, blau grau',\n",
       "  'depth_interval': {'start': 6.0, 'end': 15.3}}]"
      ]
     },
     "execution_count": 22,
     "metadata": {},
     "output_type": "execute_result"
    }
   ],
   "source": [
    "tp += len(ground_truth[random_keys[2]][\"layers\"])\n",
    "total_number += len(ground_truth[random_keys[2]][\"layers\"])\n",
    "ground_truth[random_keys[2]][\"layers\"]  # all correct"
   ]
  },
  {
   "cell_type": "code",
   "execution_count": 23,
   "id": "ca0578cc",
   "metadata": {},
   "outputs": [
    {
     "data": {
      "text/plain": [
       "[{'material_description': 'Humus',\n",
       "  'depth_interval': {'start': 0.0, 'end': 0.6}},\n",
       " {'material_description': 'Brauner, siltiger Sand, erdig',\n",
       "  'depth_interval': {'start': 0.6, 'end': 1.7}},\n",
       " {'material_description': 'Sand, Kies, leicht erdig',\n",
       "  'depth_interval': {'start': 1.7, 'end': 2.0}},\n",
       " {'material_description': 'Stark sandiger Kies, mit einz. Steinen',\n",
       "  'depth_interval': {'start': 2.0, 'end': 4.0}},\n",
       " {'material_description': 'Kies, einz. Steine mit wechselned wenig bis reichlich Sand',\n",
       "  'depth_interval': {'start': 4.0, 'end': 7.5}},\n",
       " {'material_description': 'Schuttmaterial? Kies und Steine, sandig, z.T. kantiges Material, erdig-braun',\n",
       "  'depth_interval': {'start': 7.5, 'end': 8.5}},\n",
       " {'material_description': 'Mergelkalk, grau, gebankt, Mergelzwischenlagen bis wenige cm. Stärke',\n",
       "  'depth_interval': {'start': 8.5, 'end': 13.6}}]"
      ]
     },
     "execution_count": 23,
     "metadata": {},
     "output_type": "execute_result"
    }
   ],
   "source": [
    "fp += 2\n",
    "total_number += len(ground_truth[random_keys[3]][\"layers\"])\n",
    "tp += total_number - 2\n",
    "ground_truth[random_keys[3]][\"layers\"]  # two layers deviate in wording"
   ]
  },
  {
   "cell_type": "code",
   "execution_count": 24,
   "id": "cf7656f7",
   "metadata": {},
   "outputs": [
    {
     "data": {
      "text/plain": [
       "[{'material_description': 'Humus mit Steinen, braun',\n",
       "  'depth_interval': {'start': 0.0, 'end': 0.4}},\n",
       " {'material_description': 'Stark siltiger Kies mit viel Sand und Wurzeln humos wenig Steinen bis 20cm, braun',\n",
       "  'depth_interval': {'start': 0.4, 'end': 1.8}},\n",
       " {'material_description': 'leicht siltiger Kies ca. 20-30% grosse Steine bis 20cm eher locker, grau',\n",
       "  'depth_interval': {'start': 1.8, 'end': 2.4}},\n",
       " {'material_description': 'stark siltiger Sand mit viel Kies, z.T. leicht tonig, festgelagert, grau-gelblich',\n",
       "  'depth_interval': {'start': 2.4, 'end': 3.5}},\n",
       " {'material_description': 'stark toniger Silt, hartplastisch, gelb',\n",
       "  'depth_interval': {'start': 3.5, 'end': 3.65}},\n",
       " {'material_description': 'tonig siltiger Kies mit viel Sand, wenig grosse Steine bis 15cm, festgelagert, grau',\n",
       "  'depth_interval': {'start': 3.65, 'end': 5.0}},\n",
       " {'material_description': 'Wechsellagerungen von siltigen Fein-Mittelsand',\n",
       "  'depth_interval': {'start': 5.0, 'end': 5.8}}]"
      ]
     },
     "execution_count": 24,
     "metadata": {},
     "output_type": "execute_result"
    }
   ],
   "source": [
    "tp += len(ground_truth[random_keys[4]][\"layers\"])\n",
    "total_number += len(ground_truth[random_keys[4]][\"layers\"])\n",
    "ground_truth[random_keys[4]][\"layers\"]  # wording slightly different (diameter symbol exchanged with \"bis\")\n",
    "# we consider this as correct though"
   ]
  },
  {
   "cell_type": "code",
   "execution_count": 25,
   "id": "88826b70",
   "metadata": {},
   "outputs": [
    {
     "data": {
      "text/plain": [
       "[{'material_description': 'Humus',\n",
       "  'depth_interval': {'start': 0.0, 'end': 0.1}},\n",
       " {'material_description': 'brauner, stark siltiger Kies mit Sand',\n",
       "  'depth_interval': {'start': 0.1, 'end': 0.5}},\n",
       " {'material_description': 'grauer, leicht siltiger Kies mit reichlich bis viel Sand',\n",
       "  'depth_interval': {'start': 0.5, 'end': 3.45}},\n",
       " {'material_description': 'beiger, stark siltiger Kies mit Sand, wasserführend',\n",
       "  'depth_interval': {'start': 3.45, 'end': 3.7}},\n",
       " {'material_description': 'beiger, toniger Silt mit einzelnen kleinen Steinen, plastisch',\n",
       "  'depth_interval': {'start': 3.7, 'end': 4.7}},\n",
       " {'material_description': 'angewitterter Sandstein bei 5m Wasserführend',\n",
       "  'depth_interval': {'start': 4.7, 'end': 5.4}},\n",
       " {'material_description': 'kompakter Sandstein',\n",
       "  'depth_interval': {'start': 5.4, 'end': 6.0}}]"
      ]
     },
     "execution_count": 25,
     "metadata": {},
     "output_type": "execute_result"
    }
   ],
   "source": [
    "tp += len(ground_truth[random_keys[5]][\"layers\"])\n",
    "total_number += len(ground_truth[random_keys[5]][\"layers\"])\n",
    "ground_truth[random_keys[5]][\"layers\"]  # all correct"
   ]
  },
  {
   "cell_type": "code",
   "execution_count": 26,
   "id": "6a1d3ec5",
   "metadata": {},
   "outputs": [
    {
     "data": {
      "text/plain": [
       "[{'material_description': 'Enrobé (e= 10 cm) sur grave de fondation assez limoneuse.',\n",
       "  'depth_interval': {'start': 0.0, 'end': 0.8}},\n",
       " {'material_description': 'Limon sablo-argileux, gris-beige, ferme, à cailloux plus ou moins abondants et morceaux de briques.',\n",
       "  'depth_interval': {'start': 0.8, 'end': 1.5}},\n",
       " {'material_description': 'Gravier à éléments roulés hétérométriques (dm. max. obs. 10 cm) dans matrice sableuse plus ou moins limoneuse, gris-beige, pulvérulente à assez cohérente dans les zones les plus limoneuses. Assise compacte à très compacte, perméable à semi-perméable.',\n",
       "  'depth_interval': {'start': 1.5, 'end': 3.4}},\n",
       " {'material_description': \"Gravier à éléments roulés hétérométriques (dm. max. obs. 10 cm) dans matrice très limoneuse semi-cohérente et peu perméable. Assise compacte à très compacte, perméable à semi-perméable.\\nPetit venue d'eau vers 4.0m (11-12.2.2004).\",\n",
       "  'depth_interval': {'start': 3.4, 'end': 4.3}},\n",
       " {'material_description': 'Limon argileux, gris, à feuillets légèrement oxydés au sommet, irrégulièrement stratifié, souvent à délits de limon parfois finement sableux, ferme, plastique. Quelques cailloux isolés. Assise quasi-imperméable, de faible à moyenne portance.',\n",
       "  'depth_interval': {'start': 4.3, 'end': 8.8}},\n",
       " {'material_description': \"Argile limoneuse, grise, le plus souvent d'aspect massif, localement grossièrement stratifiée avec du limon argileux, tendre, plastique à très plastique. Rares petits cailloux dispersés dans la masse. Assise quasi-imperméable, de faible portance.\",\n",
       "  'depth_interval': {'start': 8.8, 'end': 14.0}},\n",
       " {'material_description': 'Zone à prédominance limono-argileuse, irrégulièrement stratifiée, tendre à ferme, moins plastique.',\n",
       "  'depth_interval': {'start': 14.0, 'end': 15.0}}]"
      ]
     },
     "execution_count": 26,
     "metadata": {},
     "output_type": "execute_result"
    }
   ],
   "source": [
    "fp += 1\n",
    "tp += len(ground_truth[random_keys[6]][\"layers\"]) - 1\n",
    "total_number += len(ground_truth[random_keys[6]][\"layers\"])\n",
    "ground_truth[random_keys[6]][\"layers\"]  # fourth layer deviates"
   ]
  },
  {
   "cell_type": "code",
   "execution_count": 27,
   "id": "543479c2",
   "metadata": {},
   "outputs": [
    {
     "data": {
      "text/plain": [
       "[{'material_description': 'Bitume.',\n",
       "  'depth_interval': {'start': 0.0, 'end': 0.1}},\n",
       " {'material_description': \"Grave d'infrastructure.\",\n",
       "  'depth_interval': {'start': 0.1, 'end': 0.5}},\n",
       " {'material_description': 'Limon argileux à poussées finement sableuses, brun-jaunâtre (oxydation), texture  grumeleuse à délits pelliculaires de sable fin, ferme, assez plastique.',\n",
       "  'depth_interval': {'start': 0.5, 'end': 2.3}},\n",
       " {'material_description': \"Argile peu limoneuse, brun verdâtre à rubanage limonitique ocre, mal stratifiée à massive, nombreux petits coquillages d'eau douce et esquilles charbonneuses. Assise ferme à tendre, plastique, imperméable.\",\n",
       "  'depth_interval': {'start': 2.3, 'end': 2.8}},\n",
       " {'material_description': 'Argile peu limoneuse, grise rubanée de noir (traces organiques diffuses), avec débris de mollusques et esquilles de charbon, tendre, très plastique.',\n",
       "  'depth_interval': {'start': 2.8, 'end': 3.9}},\n",
       " {'material_description': 'Limon sablo-argileux gris-sombre, avec nombreux fragments de plantes palustres plus ou moins lignitisés (voir niveaux à tourbe) et coquillages de mollusques; interstratifié par de belles zones très organiques (tourbeuses). Assise tendre de faible compacité, compressible.\\nNappe phréatique à 5.62 m (3.4.89).',\n",
       "  'depth_interval': {'start': 3.9, 'end': 5.7}},\n",
       " {'material_description': \"Sable fin limoneux et limons sableux, gris sombre à fragments de plantes palustres plus ou moins lignitisés et coquillages de mollusques; mal stratifié, tendre à mou. Fluent à l'excavation sous l'eau.\",\n",
       "  'depth_interval': {'start': 5.7, 'end': 6.3}},\n",
       " {'material_description': \"Dépôts de laisse. Limon finement sableux, gris-sombre, assez bien varvé, quelques coquillages et débris organiques. Assise lâche. Fluente sous l'eau.\",\n",
       "  'depth_interval': {'start': 6.3, 'end': 6.7}},\n",
       " {'material_description': 'Gravier à galets roulés et cailloux hétérométriques (dm. max obs. 4,00 cm) petits éléments dominants dans matrice très limoneuse, cohérent, très dure, gris, pulvérulent avec une très bonne cohésion dans les zones à prédominances limoneuses. Assise peu à moyennement compacte, perméable.',\n",
       "  'depth_interval': {'start': 6.7, 'end': 7.2}},\n",
       " {'material_description': 'Sable moyen et grossier, pratiquement dépourvu de cailloux, saturé. Assise peu à moyennement compacte, perméable.',\n",
       "  'depth_interval': {'start': 7.2, 'end': 8.6}},\n",
       " {'material_description': 'Gravier à galets roulés et cailloux hétérométriques (dm. max obs. 4,00 cm) petits éléments dominants dans matrice de sable fin parfois très limoneux, gris, pulvérulent avec une très bonne cohésion dans les zones à prédominances limoneuses. Assise peu à moyennement compacte, perméable.',\n",
       "  'depth_interval': {'start': 8.6, 'end': 9.1}},\n",
       " {'material_description': 'Sable fin et moyen avec petits cailloux isolés et blocaux à la base. Assise peu à moyennement compacte, perméable.',\n",
       "  'depth_interval': {'start': 9.1, 'end': 9.6}},\n",
       " {'material_description': 'Limon argileux finement sableux, gris, quelques cailloux isolés au sommet, bien stratifié, ferme, assez plastique. Assise imperméable.',\n",
       "  'depth_interval': {'start': 9.6, 'end': 11.9}},\n",
       " {'material_description': \"Argile limoneuse, gris sombre, parfois stratifiée par de belles veines limoneuses et quelques filets de sable fin. Molle à tendre dans l'ensemble, avec niveaux plus argileux très mous, plastique.\",\n",
       "  'depth_interval': {'start': 11.9, 'end': 14.1}},\n",
       " {'material_description': \"Argile peu ou pas limoneuse, gris sombre, massive. Molle à tendre dans l'ensemble, avec niveaux plus argileux très mous, très plastique.\",\n",
       "  'depth_interval': {'start': 14.1, 'end': 15.0}}]"
      ]
     },
     "execution_count": 27,
     "metadata": {},
     "output_type": "execute_result"
    }
   ],
   "source": [
    "fp += 5\n",
    "tp += len(ground_truth[random_keys[7]][\"layers\"]) - 5\n",
    "total_number += len(ground_truth[random_keys[7]][\"layers\"])\n",
    "ground_truth[random_keys[7]][\"layers\"]  # sixth layer has an additional sentence in ground truth\n",
    "# same for 6.7 - 7.2.\n",
    "# Same for 9.1 - 9.6\n",
    "# 11.9 - 14.1 text taken from two different areas on the pdf. text is joint together not in sequential order\n",
    "# 14.1 - 15.0 different wording\n"
   ]
  },
  {
   "cell_type": "code",
   "execution_count": 28,
   "id": "9a293a1d",
   "metadata": {},
   "outputs": [
    {
     "data": {
      "text/plain": [
       "[{'material_description': 'Humus',\n",
       "  'depth_interval': {'start': 0.0, 'end': 0.25}},\n",
       " {'material_description': 'leicht siltiger, sandiger Kies (rund), grau bis braun',\n",
       "  'depth_interval': {'start': 0.25, 'end': 1.3}},\n",
       " {'material_description': 'siltiger Fein- bis Mittelsand mit reichlich Kies, braungrau, bis grau',\n",
       "  'depth_interval': {'start': 1.3, 'end': 2.8}},\n",
       " {'material_description': 'zersetzter Torf, schwarz',\n",
       "  'depth_interval': {'start': 2.8, 'end': 3.3}},\n",
       " {'material_description': 'Silt, sehr weich, organisch (mit Torflagen), dunkelgrau',\n",
       "  'depth_interval': {'start': 3.3, 'end': 3.85}},\n",
       " {'material_description': 'ziemlich zersetzter Torf, dunkelbraun',\n",
       "  'depth_interval': {'start': 3.85, 'end': 4.45}},\n",
       " {'material_description': 'leicht toniger Silt, weich, geschichtet, grau, wenig organische Beimengungen (Holzresten)',\n",
       "  'depth_interval': {'start': 4.45, 'end': 5.2}},\n",
       " {'material_description': 'sandiger Silt mit wenig bis reichlich Kies, zum Teil kantig, grau (bis 5.7 m aufgeweicht, anschliessend relativ kompakt, moräneartig)',\n",
       "  'depth_interval': {'start': 5.2, 'end': 6.6}},\n",
       " {'material_description': 'siltiger Fein- bis Mittelsand, wenig Kies, grau',\n",
       "  'depth_interval': {'start': 6.6, 'end': 7.1}},\n",
       " {'material_description': 'toniger Silt mit Sand, steif, grau (ab 8.0 m mit wenig Kies)',\n",
       "  'depth_interval': {'start': 7.1, 'end': 8.5}},\n",
       " {'material_description': 'Silt und Sand mit reichlich Kies, zum Teil kantig, grau',\n",
       "  'depth_interval': {'start': 8.5, 'end': 9.9}},\n",
       " {'material_description': 'tonig-siltiger Sand',\n",
       "  'depth_interval': {'start': 9.9, 'end': 10.0}},\n",
       " {'material_description': 'Silt und Sand mit reichlich Kies, zum Teil kantig, grau',\n",
       "  'depth_interval': {'start': 10.0, 'end': 13.0}},\n",
       " {'material_description': 'siltiger Sand',\n",
       "  'depth_interval': {'start': 13.0, 'end': 13.5}},\n",
       " {'material_description': 'Silt und Sand mit reichlich Kies, zum Teil kantig, grau',\n",
       "  'depth_interval': {'start': 13.5, 'end': 14.6}},\n",
       " {'material_description': 'sauberer bis leicht siltiger Fein- bis Grobsand mit viel Kies, grau',\n",
       "  'depth_interval': {'start': 14.6, 'end': 15.3}},\n",
       " {'material_description': 'Silt und Sand mit wenig bis reichlich Kies, zum Teil kantig, grau',\n",
       "  'depth_interval': {'start': 15.3, 'end': 15.5}}]"
      ]
     },
     "execution_count": 28,
     "metadata": {},
     "output_type": "execute_result"
    }
   ],
   "source": [
    "fp += 4\n",
    "tp += len(ground_truth[random_keys[8]][\"layers\"]) - 4\n",
    "total_number += len(ground_truth[random_keys[8]][\"layers\"])\n",
    "ground_truth[random_keys[8]][\"layers\"]\n",
    "# one layer in the pdf is divided into multiple layers in the ground truth. Drawing shows that the layer might actually be divided.\n",
    "# 9.9 - 10.0 layer present in ground truth but not in pdf\n",
    "# 10.0 - 13\n",
    "# 13.0 - 13.5\n",
    "# 13.5 - 14.6\n"
   ]
  },
  {
   "cell_type": "code",
   "execution_count": 29,
   "id": "d686b1b3",
   "metadata": {},
   "outputs": [
    {
     "data": {
      "text/plain": [
       "[{'material_description': 'sandiger (MS - VCS) Kies (Durchmesser 2 - 30 mm) grau-braun bis bunt',\n",
       "  'depth_interval': {'start': 0.0, 'end': 12.0}},\n",
       " {'material_description': 'sauberer Sand (FS-CS) braun-grau',\n",
       "  'depth_interval': {'start': 12.0, 'end': 18.0}},\n",
       " {'material_description': 'sandiger (FS-VCS) Kies (Durchmesser 2 - 15 mm) bunt',\n",
       "  'depth_interval': {'start': 18.0, 'end': 44.0}},\n",
       " {'material_description': 'sehr sandiger (FS - CS) Kies (Durchmesser 2 - 20 mm), braun',\n",
       "  'depth_interval': {'start': 44.0, 'end': 46.0}},\n",
       " {'material_description': 'leicht kiesiger (Durchmesser 2 - 5 mm) Sand (FS - VCS)',\n",
       "  'depth_interval': {'start': 46.0, 'end': 48.0}},\n",
       " {'material_description': 'leicht sandiger (MS - CS) Kies (Durchmesser 2 - 20 mm) bunt mit relativ starken Wasseraustritten',\n",
       "  'depth_interval': {'start': 48.0, 'end': 56.0}},\n",
       " {'material_description': 'sauberer Sand (FS - VCS) braun',\n",
       "  'depth_interval': {'start': 56.0, 'end': 64.0}},\n",
       " {'material_description': 'bunte Mergel grau-braun bis rötlich',\n",
       "  'depth_interval': {'start': 64.0, 'end': 68.0}}]"
      ]
     },
     "execution_count": 29,
     "metadata": {},
     "output_type": "execute_result"
    }
   ],
   "source": [
    "fn += 1\n",
    "fp += 6\n",
    "tp += len(ground_truth[random_keys[9]][\"layers\"]) - 7\n",
    "total_number += len(ground_truth[random_keys[9]][\"layers\"])\n",
    "ground_truth[random_keys[9]][\"layers\"]\n",
    "# layer 1: words in wrong order\n",
    "# layer 4: words in wrong order\n",
    "# layer 5: words in wrong order\n",
    "# layer 6: words in wrong order, additional information in ground truth that is not in material description\n",
    "# layer 7: slightly different information\n",
    "# layer 8: additional information in ground truth not present in material description\n",
    "# layer 9 - 14: missing in ground truth"
   ]
  },
  {
   "cell_type": "code",
   "execution_count": 30,
   "id": "d7a1baac",
   "metadata": {},
   "outputs": [
    {
     "name": "stdout",
     "output_type": "stream",
     "text": [
      "The total number of layers is 87. The precision is 0.83 and the recall is 0.98. F1 is 0.90.\n"
     ]
    }
   ],
   "source": [
    "print(f\"The total number of layers is {total_number}. The precision is {tp / (tp + fp):.2f} and the recall is {tp / (tp + fn):.2f}. F1 is {2 * tp / (2 * tp + fp + fn):.2f}.\")"
   ]
  },
  {
   "cell_type": "markdown",
   "id": "ca5c33ea",
   "metadata": {},
   "source": [
    "## Generation of Train-, Evaluation- and Testset\n",
    "\n",
    "We stratify by:\n",
    "- Language\n",
    "- Number of layers in the document"
   ]
  },
  {
   "cell_type": "code",
   "execution_count": 40,
   "id": "d696e5e9",
   "metadata": {},
   "outputs": [
    {
     "name": "stderr",
     "output_type": "stream",
     "text": [
      "100%|██████████████████████████████████████████████████████████████████████████████████████████████████████████████████████████████████████████████████████████████████████████████████████████████████████████████████████████| 1658/1658 [00:11<00:00, 149.93it/s]\n"
     ]
    }
   ],
   "source": [
    "metadata = {}\n",
    "for pdf_file in tqdm(pdf_files):\n",
    "    if pdf_file in files_without_text:  # if theres no text we can't detect the language\n",
    "        continue\n",
    "    text = extract_text_from_pdf(pdf_file)\n",
    "    language = detect_language(text)\n",
    "    if language not in ['de', 'fr']:\n",
    "        language = 'de'\n",
    "    metadata[pdf_file.name] = {\"language\": language, \"number_layers\": len(ground_truth[pdf_file.name][\"layers\"])}"
   ]
  },
  {
   "cell_type": "code",
   "execution_count": 60,
   "id": "e5692901",
   "metadata": {},
   "outputs": [],
   "source": [
    "import pandas as pd\n",
    "from sklearn.model_selection import train_test_split\n",
    "import numpy as np"
   ]
  },
  {
   "cell_type": "code",
   "execution_count": 89,
   "id": "4ae5539f",
   "metadata": {},
   "outputs": [],
   "source": [
    "X = pd.DataFrame.from_dict(metadata, orient='index')\n",
    "bins = np.linspace(0, 50, 6)\n",
    "bins = list(bins)\n",
    "bins.append(5000)\n",
    "X[\"number_layers_binned\"] = pd.cut(X[\"number_layers\"], bins=bins)"
   ]
  },
  {
   "cell_type": "code",
   "execution_count": 90,
   "id": "e94817a9",
   "metadata": {},
   "outputs": [
    {
     "name": "stderr",
     "output_type": "stream",
     "text": [
      "/var/folders/vm/xm795ypj2sdc0fbgn1mkj2nr0000gp/T/ipykernel_70034/608337562.py:1: FutureWarning: The default of observed=False is deprecated and will be changed to True in a future version of pandas. Pass observed=False to retain current behavior or observed=True to adopt the future default and silence this warning.\n",
      "  X.groupby(\"number_layers_binned\").count()\n"
     ]
    },
    {
     "data": {
      "text/html": [
       "<div>\n",
       "<style scoped>\n",
       "    .dataframe tbody tr th:only-of-type {\n",
       "        vertical-align: middle;\n",
       "    }\n",
       "\n",
       "    .dataframe tbody tr th {\n",
       "        vertical-align: top;\n",
       "    }\n",
       "\n",
       "    .dataframe thead th {\n",
       "        text-align: right;\n",
       "    }\n",
       "</style>\n",
       "<table border=\"1\" class=\"dataframe\">\n",
       "  <thead>\n",
       "    <tr style=\"text-align: right;\">\n",
       "      <th></th>\n",
       "      <th>language</th>\n",
       "      <th>number_layers</th>\n",
       "    </tr>\n",
       "    <tr>\n",
       "      <th>number_layers_binned</th>\n",
       "      <th></th>\n",
       "      <th></th>\n",
       "    </tr>\n",
       "  </thead>\n",
       "  <tbody>\n",
       "    <tr>\n",
       "      <th>(0.0, 10.0]</th>\n",
       "      <td>866</td>\n",
       "      <td>866</td>\n",
       "    </tr>\n",
       "    <tr>\n",
       "      <th>(10.0, 20.0]</th>\n",
       "      <td>579</td>\n",
       "      <td>579</td>\n",
       "    </tr>\n",
       "    <tr>\n",
       "      <th>(20.0, 30.0]</th>\n",
       "      <td>109</td>\n",
       "      <td>109</td>\n",
       "    </tr>\n",
       "    <tr>\n",
       "      <th>(30.0, 40.0]</th>\n",
       "      <td>29</td>\n",
       "      <td>29</td>\n",
       "    </tr>\n",
       "    <tr>\n",
       "      <th>(40.0, 50.0]</th>\n",
       "      <td>10</td>\n",
       "      <td>10</td>\n",
       "    </tr>\n",
       "    <tr>\n",
       "      <th>(50.0, 5000.0]</th>\n",
       "      <td>8</td>\n",
       "      <td>8</td>\n",
       "    </tr>\n",
       "  </tbody>\n",
       "</table>\n",
       "</div>"
      ],
      "text/plain": [
       "                      language  number_layers\n",
       "number_layers_binned                         \n",
       "(0.0, 10.0]                866            866\n",
       "(10.0, 20.0]               579            579\n",
       "(20.0, 30.0]               109            109\n",
       "(30.0, 40.0]                29             29\n",
       "(40.0, 50.0]                10             10\n",
       "(50.0, 5000.0]               8              8"
      ]
     },
     "execution_count": 90,
     "metadata": {},
     "output_type": "execute_result"
    }
   ],
   "source": [
    "X.groupby(\"number_layers_binned\").count()"
   ]
  },
  {
   "cell_type": "code",
   "execution_count": 101,
   "id": "4861f963",
   "metadata": {},
   "outputs": [],
   "source": [
    "train_size = 0.7\n",
    "test_size = 0.15\n",
    "eval_size = 0.15"
   ]
  },
  {
   "cell_type": "code",
   "execution_count": 102,
   "id": "99197a07",
   "metadata": {},
   "outputs": [],
   "source": [
    "_X, X_test= train_test_split(X, test_size=test_size, random_state=42, stratify=X[[\"language\", \"number_layers_binned\"]])  # it's not straight forward to stratify by number_of_layers as it's continuous.\n",
    "X_train, X_val = train_test_split(_X, test_size=eval_size/(1-test_size), random_state=42, stratify=_X[[\"language\", \"number_layers_binned\"]])"
   ]
  },
  {
   "cell_type": "code",
   "execution_count": 103,
   "id": "9bef204b",
   "metadata": {},
   "outputs": [
    {
     "data": {
      "text/plain": [
       "(1119, 241, 241)"
      ]
     },
     "execution_count": 103,
     "metadata": {},
     "output_type": "execute_result"
    }
   ],
   "source": [
    "len(X_train), len(X_val), len(X_test)"
   ]
  },
  {
   "cell_type": "code",
   "execution_count": 113,
   "id": "aae619eb",
   "metadata": {},
   "outputs": [
    {
     "data": {
      "image/png": "[encoded data removed]",
      "text/plain": [
       "<Figure size 640x480 with 1 Axes>"
      ]
     },
     "metadata": {},
     "output_type": "display_data"
    }
   ],
   "source": [
    "X_train.number_layers.hist(density=True, alpha=0.5, label=\"Train\")\n",
    "X_test.number_layers.hist(density=True, alpha=0.5, label=\"Test\")\n",
    "X_val.number_layers.hist(density=True, alpha=0.5, label=\"Validation\")\n",
    "plt.xlabel(\"Number of layers\")\n",
    "plt.ylabel(\"Density\")\n",
    "plt.title(\"Distribution of number of layers in train, test and validation set\")\n",
    "plt.legend()\n",
    "plt.show()"
   ]
  },
  {
   "cell_type": "code",
   "execution_count": 121,
   "id": "efb8962a",
   "metadata": {},
   "outputs": [
    {
     "data": {
      "text/plain": [
       "Text(0.5, 0, 'Language')"
      ]
     },
     "execution_count": 121,
     "metadata": {},
     "output_type": "execute_result"
    },
    {
     "data": {
      "image/png": "[encoded data removed]",
      "text/plain": [
       "<Figure size 1500x500 with 3 Axes>"
      ]
     },
     "metadata": {},
     "output_type": "display_data"
    }
   ],
   "source": [
    "# create three subplots with the language distribution for train, test and validation set\n",
    "fig, axs = plt.subplots(1, 3, figsize=(15, 5))\n",
    "X_train.language.value_counts(normalize=True).plot(kind='bar', ax=axs[0])\n",
    "X_val.language.value_counts(normalize=True).plot(kind='bar', ax=axs[1])\n",
    "X_test.language.value_counts(normalize=True).plot(kind='bar', ax=axs[2])\n",
    "axs[0].set_title(\"Train\")\n",
    "axs[1].set_title(\"Validation\")\n",
    "axs[2].set_title(\"Test\")\n",
    "for ax in axs:\n",
    "    ax.set_ylabel(\"Percentage\")\n",
    "    ax.set_xlabel(\"Language\")\n",
    "plt.ylabel(\"Percentage\")\n",
    "plt.xlabel(\"Language\")"
   ]
  }
 ],
 "metadata": {
  "kernelspec": {
   "display_name": "Python 3 (ipykernel)",
   "language": "python",
   "name": "python3"
  },
  "language_info": {
   "codemirror_mode": {
    "name": "ipython",
    "version": 3
   },
   "file_extension": ".py",
   "mimetype": "text/x-python",
   "name": "python",
   "nbconvert_exporter": "python",
   "pygments_lexer": "ipython3",
   "version": "3.10.0"
  }
 },
 "nbformat": 4,
 "nbformat_minor": 5
}
